{
 "cells": [
  {
   "cell_type": "code",
   "execution_count": 331,
   "id": "57853515-b4cb-45db-a146-834f4f0cf0db",
   "metadata": {},
   "outputs": [],
   "source": [
    "import numpy as np\n",
    "import matplotlib.pyplot as plt\n",
    "from scipy.optimize import minimize\n",
    "from numpy.linalg import eig, norm\n",
    "from scipy import special\n",
    "from scipy.linalg import fractional_matrix_power"
   ]
  },
  {
   "cell_type": "markdown",
   "id": "c26a0f4c-ab62-4908-ab6d-9aad2d8f1ea8",
   "metadata": {},
   "source": [
    "# Helium Atom - Variational"
   ]
  },
  {
   "cell_type": "code",
   "execution_count": 12,
   "id": "49b5d3a8-fc9d-4a9c-820f-1a19a5124f8e",
   "metadata": {},
   "outputs": [],
   "source": [
    "def h_integral(zeta):\n",
    "    return .5*zeta**2-2*zeta\n",
    "def two_elec_integral(zeta):\n",
    "    return 5/8 * zeta\n",
    "def variational_energy_helium(zeta):\n",
    "    return 2*h_integral(zeta)+two_elec_integral(zeta)"
   ]
  },
  {
   "cell_type": "code",
   "execution_count": 13,
   "id": "fd13a725-f279-42ad-88b7-41fbde9a6acf",
   "metadata": {},
   "outputs": [],
   "source": [
    "zeta_range = np.arange(1,2.5,.001)\n",
    "e = variational_energy_helium(zeta_range)"
   ]
  },
  {
   "cell_type": "code",
   "execution_count": 14,
   "id": "68265a03-feaa-4815-9a88-a859e6579b45",
   "metadata": {},
   "outputs": [
    {
     "name": "stdout",
     "output_type": "stream",
     "text": [
      "Optimization terminated successfully.\n",
      "         Current function value: -2.847656\n",
      "         Iterations: 29\n",
      "         Function evaluations: 63\n"
     ]
    }
   ],
   "source": [
    "x0 = [1.5]\n",
    "res = minimize(variational_energy_helium, x0, method='nelder-mead',\n",
    "               options={'xatol':1e-9,'disp': True})"
   ]
  },
  {
   "cell_type": "code",
   "execution_count": 23,
   "id": "dc2a5a8e-c396-4dcd-9092-83a0538b6073",
   "metadata": {},
   "outputs": [
    {
     "data": {
      "image/png": "[encoded data removed]",
      "text/plain": [
       "<Figure size 640x480 with 1 Axes>"
      ]
     },
     "metadata": {},
     "output_type": "display_data"
    }
   ],
   "source": [
    "plt.plot(zeta_range, e)\n",
    "plt.xlabel(r'$\\zeta$')\n",
    "plt.ylabel(r\"$E$ (Hartree)\")\n",
    "plt.show()"
   ]
  },
  {
   "cell_type": "markdown",
   "id": "6d10ca53-818d-44a6-be92-6e81a91c40bd",
   "metadata": {},
   "source": [
    "# Helium Atom HF"
   ]
  },
  {
   "cell_type": "code",
   "execution_count": 24,
   "id": "da8770c8-a3b9-4532-9b3c-83e4b0a8ca71",
   "metadata": {},
   "outputs": [],
   "source": [
    "z1 = 1.45363\n",
    "z2 = 2.91093"
   ]
  },
  {
   "cell_type": "code",
   "execution_count": 32,
   "id": "8d16ca30-5ac1-42fa-9a16-40cf07c3039f",
   "metadata": {},
   "outputs": [],
   "source": [
    "h11 = .5*z1**2-2*z1\n",
    "h22 = .5*z2**2-2*z2\n",
    "h12 = z1**(3/2)*z2**(3/2)*(4*z1*z2-8*z1-8*z2)/((z1+z2)**3)\n",
    "Hmatr = np.array([[h11,h12],[h12,h22]])"
   ]
  },
  {
   "cell_type": "code",
   "execution_count": 41,
   "id": "c1148697-8683-4a1e-a247-d89bfe58f7c3",
   "metadata": {},
   "outputs": [],
   "source": [
    "j1111 = (5/8)*z1\n",
    "j2222 = (5/8)*z2\n",
    "j1122 = (z1**4 * z2 + 4 * z1**3 * z2**2 + z1*z2**4 + 4 * z1**2 * z2**3)/((z1+z2)**4)\n",
    "j1212 = 20*z1**3*z2**3/((z1+z2)**5)\n",
    "j1112 = (16*z1**(9/2)*z2**(3/2)/((3*z1+z2)**4))* \\\n",
    "((12*z1+8*z2)/((z1+z2)**2) + (9*z1+z2)/(2*z1**2))\n",
    "j1222 = (16*z2**(9/2)*z1**(3/2)/((3*z2+z1)**4))* \\\n",
    "((12*z2+8*z1)/((z2+z1)**2) + (9*z2+z1)/(2*z2**2))"
   ]
  },
  {
   "cell_type": "code",
   "execution_count": 69,
   "id": "3f71e135-4544-4f6e-9726-def428513df2",
   "metadata": {},
   "outputs": [],
   "source": [
    "two_elec = np.empty((2,2,2,2)) # Two electron integrals matrix"
   ]
  },
  {
   "cell_type": "code",
   "execution_count": 70,
   "id": "552dd3fa-81bc-47af-bb43-94d88eb364eb",
   "metadata": {},
   "outputs": [],
   "source": [
    "two_elec[0,0,0,0] = j1111\n",
    "two_elec[1,1,1,1] = j2222\n",
    "\n",
    "two_elec[0,0,1,1] = j1122\n",
    "two_elec[1,1,0,0] = j1122\n",
    "\n",
    "two_elec[0,1,0,1] = j1212\n",
    "two_elec[1,0,0,1] = j1212\n",
    "two_elec[0,1,1,0] = j1212\n",
    "two_elec[1,0,1,0] = j1212\n",
    "\n",
    "two_elec[0,0,0,1] = j1112\n",
    "two_elec[0,0,1,0] = j1112\n",
    "two_elec[0,1,0,0] = j1112\n",
    "two_elec[1,0,0,0] = j1112\n",
    "\n",
    "two_elec[0,1,1,1] = j1222\n",
    "two_elec[1,1,0,1] = j1222\n",
    "two_elec[1,0,1,1] = j1222\n",
    "two_elec[1,1,1,0] = j1222"
   ]
  },
  {
   "cell_type": "code",
   "execution_count": 71,
   "id": "e52dfdb9-52b1-4a3f-91fd-9eb5c2aa7e47",
   "metadata": {},
   "outputs": [],
   "source": [
    "s11 = 1\n",
    "s22 = 1\n",
    "s12 = 8*z1**(3/2)*z2**(3/2)/((z1+z2)**3) # Overlap Matrix Elements\n",
    "Smatr = np.array([[s11,s12],[s12,s22]]) # Overlap Matrix"
   ]
  },
  {
   "cell_type": "code",
   "execution_count": 177,
   "id": "3fa32de9-a242-41f6-b3a3-426bc3c349cf",
   "metadata": {},
   "outputs": [
    {
     "name": "stdout",
     "output_type": "stream",
     "text": [
      "[[ 1.60929053 -0.87158414]\n",
      " [-0.87158414  1.60929053]]\n"
     ]
    }
   ],
   "source": [
    "Xmatr = fractional_matrix_power(Smatr, -1/2) # Transform to orthogonal basis\n",
    "print(Xmatr)"
   ]
  },
  {
   "cell_type": "code",
   "execution_count": 78,
   "id": "59227f1a-5cf9-497b-afb1-43f595ed24e4",
   "metadata": {},
   "outputs": [],
   "source": [
    "coeff = np.zeros((2,2))"
   ]
  },
  {
   "cell_type": "code",
   "execution_count": 80,
   "id": "78fe2ca0-f73a-4af6-9c03-6cdd89341895",
   "metadata": {},
   "outputs": [],
   "source": [
    "def sum_function(r,s,t,u):\n",
    "    return coeff[1,t]*coeff[1,u]*two_elec[r,s,t,u]"
   ]
  },
  {
   "cell_type": "code",
   "execution_count": 204,
   "id": "4de1e760-5898-4639-8f56-69fe53b28231",
   "metadata": {},
   "outputs": [],
   "source": [
    "def makePmatr(coeff):\n",
    "    Pmatr = np.zeros((nBasis,nBasis))\n",
    "    for t in range(0,nBasis):\n",
    "        for u in range(0,nBasis):\n",
    "            for i in range(0,nOcc):\n",
    "                Pmatr[t,u] += 2*coeff[i,t]*coeff[i,u]\n",
    "    return Pmatr"
   ]
  },
  {
   "cell_type": "code",
   "execution_count": 205,
   "id": "48179278-6980-4f75-80ef-f468fcd4d83f",
   "metadata": {},
   "outputs": [],
   "source": [
    "def makeFmatr_old(Hmatr, coeff):\n",
    "    F = Hmatr.copy()\n",
    "    for r in range(nBasis):\n",
    "        for s in range(nBasis):\n",
    "            for t in range(nBasis):\n",
    "                for u in range(nBasis):\n",
    "                    F[r,s] += sum_function(r,s,t,u)\n",
    "    return F\n",
    "def makeFmatr(Hmatr, Pmatr):\n",
    "    F = np.empty((nBasis, nBasis))\n",
    "    for r in range(nBasis):\n",
    "        for s in range(nBasis):\n",
    "            F[r,s] = Hmatr[r,s]\n",
    "            for t in range(nBasis):\n",
    "                for u in range(nBasis):\n",
    "                    F[r,s] += Pmatr[t,u]*(two_elec[r,s,t,u]-.5*two_elec[r,u,t,s])\n",
    "    return F"
   ]
  },
  {
   "cell_type": "code",
   "execution_count": 210,
   "id": "fd4dfac0-11da-4ed0-99b3-179d002841ca",
   "metadata": {},
   "outputs": [
    {
     "data": {
      "text/plain": [
       "array([[-0.94321222, -0.92218968],\n",
       "       [-0.92218968, -0.24837557]])"
      ]
     },
     "execution_count": 210,
     "metadata": {},
     "output_type": "execute_result"
    }
   ],
   "source": [
    "coeff = np.zeros((2,2))\n",
    "Fmatr = makeFmatr_old(Hmatr, coeff)\n",
    "evals, coeff = eig(Xmatr.conj().T @ Fmatr @ Xmatr)\n",
    "coeff = coeff.T\n",
    "for i in range(2):\n",
    "    coeff[i] =Xmatr @ coeff[i]\n",
    "makeFmatr_old(Hmatr, coeff)"
   ]
  },
  {
   "cell_type": "code",
   "execution_count": 208,
   "id": "fc62face-a637-463e-9508-7fff7d085664",
   "metadata": {},
   "outputs": [],
   "source": [
    "def calcHFenergy(sortedEvals, Hmatr, Pmatr, Vnn):\n",
    "    energy = sortedEvals[0:nOcc].sum()\n",
    "    for r in range(nBasis):\n",
    "        for s in range(nBasis):\n",
    "            energy += .5*Pmatr[r,s]*Hmatr[r,s]\n",
    "    energy += Vnn\n",
    "    return energy"
   ]
  },
  {
   "cell_type": "code",
   "execution_count": 224,
   "id": "1450cb73-18bb-41ee-a030-e74864310b7d",
   "metadata": {},
   "outputs": [
    {
     "name": "stdout",
     "output_type": "stream",
     "text": [
      "Iteration: 1 Energy: -3.9592393540595516\n",
      "Iteration: 2 Energy: -2.7845718692620722\n",
      "Iteration: 3 Energy: -2.858598372056244\n",
      "Iteration: 4 Energy: -2.8615227606191795\n",
      "Iteration: 5 Energy: -2.8616652258793556\n",
      "Iteration: 6 Energy: -2.8616722348933363\n",
      "Iteration: 7 Energy: -2.8616725798900475\n",
      "Iteration: 8 Energy: -2.8616725968718333\n",
      "Iteration: 9 Energy: -2.8616725977077286\n",
      "Iteration: 10 Energy: -2.8616725977488744\n"
     ]
    }
   ],
   "source": [
    "nBasis = 2\n",
    "nOcc = 1\n",
    "coeff = np.zeros((2,2))\n",
    "Pmatr = makePmatr(coeff)\n",
    "energies = []\n",
    "for j in range(0,10):\n",
    "    Fmatr = makeFmatr(Hmatr, Pmatr)\n",
    "    Fprime = Xmatr.conj().T @ Fmatr @ Xmatr\n",
    "    eigenValues, eigenVectors = eig(Fprime)\n",
    "    coeff = eigenVectors.T\n",
    "    # print(coeff)\n",
    "    for i in range(nBasis):\n",
    "        coeff[i] = Xmatr @ coeff[i]\n",
    "    sorting = eigenValues.argsort()[::1]\n",
    "    eigenValues = eigenValues[sorting]\n",
    "\n",
    "    coeff = coeff[sorting]\n",
    "\n",
    "    Pmatr = makePmatr(coeff)\n",
    "    energy = calcHFenergy(eigenValues, Hmatr, Pmatr, 0)\n",
    "    energies.append(energy)\n",
    "    print(f\"Iteration: {j+1} Energy: {energy}\")"
   ]
  },
  {
   "cell_type": "code",
   "execution_count": 225,
   "id": "f88a23a8-c289-428e-afb3-6c3bf22bc853",
   "metadata": {},
   "outputs": [
    {
     "data": {
      "image/png": "[encoded data removed]",
      "text/plain": [
       "<Figure size 640x480 with 1 Axes>"
      ]
     },
     "metadata": {},
     "output_type": "display_data"
    }
   ],
   "source": [
    "plt.plot(energies, \".\")\n",
    "plt.show()"
   ]
  },
  {
   "cell_type": "markdown",
   "id": "e4ab1d88-04a4-463d-be2b-dad3b5ea1f3c",
   "metadata": {},
   "source": [
    "# Hydrogen Molecule"
   ]
  },
  {
   "cell_type": "code",
   "execution_count": 277,
   "id": "83646062-28d6-4ee4-b82d-888d0e3922f9",
   "metadata": {},
   "outputs": [],
   "source": [
    "def g1s_unnorm(alpha, rA):\n",
    "    return np.exp(-alpha*(np.dot(rA, rA)))\n",
    "def g1s_norm_const(alpha):\n",
    "    return (2*alpha/np.pi)**(3/4)\n",
    "def g1s(alpha, rA):\n",
    "    return g1s_norm_const(alpha)*g1s_unnorm(alpha, rA)"
   ]
  },
  {
   "cell_type": "code",
   "execution_count": 278,
   "id": "bed26ff1-f89d-4198-8289-3f7b94343951",
   "metadata": {},
   "outputs": [
    {
     "data": {
      "image/png": "[encoded data removed]",
      "text/plain": [
       "<Figure size 640x480 with 1 Axes>"
      ]
     },
     "metadata": {},
     "output_type": "display_data"
    }
   ],
   "source": [
    "z = np.arange(0,5,.01)\n",
    "plt.plot(z, list(map(lambda x: g1s(.1, x), z)))\n",
    "plt.plot(z, list(map(lambda x: g1s(1, x), z)))\n",
    "plt.plot(z, list(map(lambda x: g1s(2, x), z)))\n",
    "plt.show()"
   ]
  },
  {
   "cell_type": "code",
   "execution_count": 350,
   "id": "167de59b-2563-4857-8cfe-3985c7bb3efc",
   "metadata": {},
   "outputs": [],
   "source": [
    "def propK(alpha, rA, beta, rB):\n",
    "    # print(rA-rB)\n",
    "    value =  np.exp(-alpha * beta * np.dot(rA-rB, rA-rB)/(alpha+beta))\n",
    "    return value\n",
    "def rP(alpha, rA, beta, rB):\n",
    "    return (alpha*rA+beta*rB)/(alpha+beta)\n",
    "def p(alpha, beta):\n",
    "    return alpha+beta"
   ]
  },
  {
   "cell_type": "code",
   "execution_count": 351,
   "id": "4238fac7-21e7-44d2-b4ad-e433b4451051",
   "metadata": {},
   "outputs": [],
   "source": [
    "def overlapInt(alpha, rA, beta, rB):\n",
    "    return g1s_norm_const(alpha)*g1s_norm_const(beta)*propK(alpha, rA, beta, rB)*(np.pi/(alpha+beta))**(3/2)\n",
    "def kineticEnInt(alpha, rA, beta, rB):\n",
    "    return g1s_norm_const(alpha)*g1s_norm_const(beta)*propK(alpha, rA, beta, rB)\\\n",
    "    * (((alpha*beta)/(alpha+beta))*(3-(2*alpha*beta*np.dot(rA-rB, rA-rB)/(alpha+beta))))\\\n",
    "    * (np.pi/(alpha+beta))**(3/2)\n",
    "def f0func(t):\n",
    "    value =  special.erf((t+10e-10)**(1/2))*((np.pi/(t+10e-10))**(1/2)) / 2\n",
    "    return(value)\n",
    "def nuclearInt(alpha, rA, beta, rB, Zc, rC):\n",
    "    return -Zc * g1s_norm_const(alpha) * g1s_norm_const(beta) * propK(alpha, rA, beta, rB) * \\\n",
    "    (2 * np.pi / (alpha+beta)) * f0func((alpha+beta)*np.dot((rP(alpha, rA, beta, rB)-rC), (rP(alpha, rA, beta, rB)-rC)))\n",
    "def twoElecInt(alpha, rA, beta, rB, gamma, rC, delta, rD):\n",
    "    return propK(alpha, rA, beta, rB) * propK(gamma, rC, delta, rD) * \\\n",
    "    g1s_norm_const(alpha) * g1s_norm_const(beta) * g1s_norm_const(gamma) * g1s_norm_const(delta) * \\\n",
    "    ((2*np.pi**(5/2))/((alpha+beta)*(gamma+delta)*np.sqrt(alpha+beta+gamma+delta))) * \\\n",
    "    f0func((alpha+beta)*(gamma+delta)*\\\n",
    "          np.dot((rP(alpha, rA, beta, rB)-rP(gamma, rC, delta, rD)), (rP(alpha, rA, beta, rB)-rP(gamma, rC, delta, rD))) / (alpha+beta+gamma+delta))"
   ]
  },
  {
   "cell_type": "code",
   "execution_count": 352,
   "id": "eb6b8257-6ad9-46b4-8fd3-dc2fc9709cc5",
   "metadata": {},
   "outputs": [],
   "source": [
    "nAtom = 2\n",
    "nBasis = 2\n",
    "nOcc = 1\n",
    "atomPos = np.array([[0,0,0],[0,0,1.6]])\n",
    "atomZ = np.array([1,1])\n",
    "basisPos = np.array([[0,0,0],[0,0,1.6]])\n",
    "basisOrb = np.array([.4166, .4166])"
   ]
  },
  {
   "cell_type": "code",
   "execution_count": 353,
   "id": "cf073cdd-66dc-4f7b-969f-72cc99d1e8e3",
   "metadata": {},
   "outputs": [
    {
     "name": "stdout",
     "output_type": "stream",
     "text": [
      "[[1.         0.58669628]\n",
      " [0.58669628 1.        ]]\n"
     ]
    }
   ],
   "source": [
    "Smatr = np.empty((nBasis, nBasis))\n",
    "for i in range(nBasis):\n",
    "    for j in range(nBasis):\n",
    "        Smatr[i,j]= overlapInt(basisOrb[i], basisPos[i], basisOrb[j], basisPos[j])\n",
    "print(Smatr)"
   ]
  },
  {
   "cell_type": "code",
   "execution_count": 354,
   "id": "77edf789-60e0-4bef-b5e6-eca6d16d5141",
   "metadata": {},
   "outputs": [
    {
     "name": "stdout",
     "output_type": "stream",
     "text": [
      "[[ 1.17468002 -0.38080325]\n",
      " [-0.38080325  1.17468002]]\n"
     ]
    }
   ],
   "source": [
    "Xmatr = fractional_matrix_power(Smatr, -1/2) # Transform to orthogonal basis\n",
    "print(Xmatr)"
   ]
  },
  {
   "cell_type": "code",
   "execution_count": 355,
   "id": "206b6297-883d-4102-a573-36231b745d1b",
   "metadata": {},
   "outputs": [
    {
     "name": "stdout",
     "output_type": "stream",
     "text": [
      "[[-1.00578043 -0.78787764]\n",
      " [-0.78787764 -1.00578043]]\n"
     ]
    }
   ],
   "source": [
    "Hmatr = np.empty((nBasis, nBasis))\n",
    "for i in range(nBasis):\n",
    "    for j in range(nBasis):\n",
    "        Hmatr[i,j] = kineticEnInt(basisOrb[i], basisPos[i], basisOrb[j], basisPos[j])\n",
    "        for k in range(nAtom):\n",
    "            Hmatr[i,j] += nuclearInt(basisOrb[i], basisPos[i], basisOrb[j], basisPos[j], atomZ[k], atomPos[k])\n",
    "print(Hmatr)"
   ]
  },
  {
   "cell_type": "code",
   "execution_count": 356,
   "id": "aa736c3e-886e-4d60-8802-63fba4cf8cee",
   "metadata": {},
   "outputs": [
    {
     "name": "stdout",
     "output_type": "stream",
     "text": [
      "[[[[0.72830735 0.39217381]\n",
      "   [0.39217381 0.53490055]]\n",
      "\n",
      "  [[0.39217381 0.25069251]\n",
      "   [0.25069251 0.39217381]]]\n",
      "\n",
      "\n",
      " [[[0.39217381 0.25069251]\n",
      "   [0.25069251 0.39217381]]\n",
      "\n",
      "  [[0.53490055 0.39217381]\n",
      "   [0.39217381 0.72830735]]]]\n"
     ]
    }
   ],
   "source": [
    "two_elec = np.empty((nBasis, nBasis, nBasis, nBasis))\n",
    "\n",
    "for i in range(nBasis):\n",
    "    for j in range(nBasis):\n",
    "        for k in range(nBasis):\n",
    "            for l in range(nBasis):\n",
    "                value = twoElecInt(basisOrb[i], basisPos[i], basisOrb[j], basisPos[j], basisOrb[k], basisPos[k], basisOrb[l], basisPos[l])\n",
    "                two_elec[i,j,k,l] = value\n",
    "print(two_elec)"
   ]
  },
  {
   "cell_type": "code",
   "execution_count": 357,
   "id": "7cdc1bb4-df2c-47f2-b17b-71085e742167",
   "metadata": {},
   "outputs": [],
   "source": [
    "Vnn = 0\n",
    "for cp in range(1, nAtom):\n",
    "    for c in range(0, cp):\n",
    "        Vnn += atomZ[c]*atomZ[cp]/norm(atomPos[c]-atomPos[cp])\n"
   ]
  },
  {
   "cell_type": "code",
   "execution_count": 358,
   "id": "1f13f37f-46b5-4138-9d7e-251445b3ab99",
   "metadata": {},
   "outputs": [
    {
     "name": "stdout",
     "output_type": "stream",
     "text": [
      "Iteration: 1 Energy: -1.6358713368161677\n",
      "Iteration: 2 Energy: -0.9738755022553378\n",
      "Iteration: 3 Energy: -0.9738755022553374\n",
      "Iteration: 4 Energy: -0.9738755022553376\n",
      "Iteration: 5 Energy: -0.9738755022553378\n",
      "Iteration: 6 Energy: -0.9738755022553376\n",
      "Iteration: 7 Energy: -0.9738755022553378\n",
      "Iteration: 8 Energy: -0.9738755022553376\n",
      "Iteration: 9 Energy: -0.9738755022553378\n",
      "Iteration: 10 Energy: -0.9738755022553376\n"
     ]
    }
   ],
   "source": [
    "coeff = np.zeros((2,2))\n",
    "Pmatr = makePmatr(coeff)\n",
    "energies = []\n",
    "for j in range(0,10):\n",
    "    Fmatr = makeFmatr(Hmatr, Pmatr)\n",
    "    Fprime = Xmatr.conj().T @ Fmatr @ Xmatr\n",
    "    eigenValues, eigenVectors = eig(Fprime)\n",
    "    coeff = eigenVectors.T\n",
    "    # print(coeff)\n",
    "    for i in range(nBasis):\n",
    "        coeff[i] = Xmatr @ coeff[i]\n",
    "    sorting = eigenValues.argsort()[::1]\n",
    "    eigenValues = eigenValues[sorting]\n",
    "\n",
    "    coeff = coeff[sorting]\n",
    "\n",
    "    Pmatr = makePmatr(coeff)\n",
    "    energy = calcHFenergy(eigenValues, Hmatr, Pmatr, Vnn)\n",
    "    energies.append(energy)\n",
    "    print(f\"Iteration: {j+1} Energy: {energy}\")"
   ]
  },
  {
   "cell_type": "code",
   "execution_count": 367,
   "id": "d8b1943d-79f5-415d-8588-9391f8f954b9",
   "metadata": {},
   "outputs": [],
   "source": [
    "def HF(dist):\n",
    "    nAtom = 2\n",
    "    nBasis = 2\n",
    "    nOcc = 1\n",
    "    atomZ = np.array([1,1])\n",
    "    basisOrb = np.array([.4166, .4166])\n",
    "    atomPos = np.array([[0,0,0],[0,0,dist]])\n",
    "    basisPos = np.array([[0,0,0],[0,0,dist]])\n",
    "    \n",
    "    Smatr = np.empty((nBasis, nBasis))\n",
    "    for i in range(nBasis):\n",
    "        for j in range(nBasis):\n",
    "            Smatr[i,j]= overlapInt(basisOrb[i], basisPos[i], basisOrb[j], basisPos[j])\n",
    "    Xmatr = fractional_matrix_power(Smatr, -1/2) # Transform to orthogonal basis\n",
    "    \n",
    "    Hmatr = np.empty((nBasis, nBasis))\n",
    "    for i in range(nBasis):\n",
    "        for j in range(nBasis):\n",
    "            Hmatr[i,j] = kineticEnInt(basisOrb[i], basisPos[i], basisOrb[j], basisPos[j])\n",
    "            for k in range(nAtom):\n",
    "                Hmatr[i,j] += nuclearInt(basisOrb[i], basisPos[i], basisOrb[j], basisPos[j], atomZ[k], atomPos[k])\n",
    "\n",
    "    two_elec = np.empty((nBasis, nBasis, nBasis, nBasis))\n",
    "    for i in range(nBasis):\n",
    "        for j in range(nBasis):\n",
    "            for k in range(nBasis):\n",
    "                for l in range(nBasis):\n",
    "                    value = twoElecInt(basisOrb[i], basisPos[i], basisOrb[j], basisPos[j], basisOrb[k], basisPos[k], basisOrb[l], basisPos[l])\n",
    "                    two_elec[i,j,k,l] = value\n",
    "    Vnn = 0\n",
    "    for cp in range(1, nAtom):\n",
    "        for c in range(0, cp):\n",
    "            Vnn += atomZ[c]*atomZ[cp]/norm(atomPos[c]-atomPos[cp])\n",
    "        \n",
    "    \n",
    "    coeff = np.zeros((2,2))\n",
    "    Pmatr = makePmatr(coeff)\n",
    "    energies = []\n",
    "    energy = 0\n",
    "    for j in range(0,10):\n",
    "        Fmatr = makeFmatr(Hmatr, Pmatr)\n",
    "        Fprime = Xmatr.conj().T @ Fmatr @ Xmatr\n",
    "        eigenValues, eigenVectors = eig(Fprime)\n",
    "        coeff = eigenVectors.T\n",
    "        # print(coeff)\n",
    "        for i in range(nBasis):\n",
    "            coeff[i] = Xmatr @ coeff[i]\n",
    "        sorting = eigenValues.argsort()[::1]\n",
    "        eigenValues = eigenValues[sorting]\n",
    "    \n",
    "        coeff = coeff[sorting]\n",
    "    \n",
    "        Pmatr = makePmatr(coeff)\n",
    "        energy = calcHFenergy(eigenValues, Hmatr, Pmatr, Vnn)\n",
    "    return energy"
   ]
  },
  {
   "cell_type": "code",
   "execution_count": 371,
   "id": "92d0e333-b6d2-48ec-b59d-82454b23f036",
   "metadata": {},
   "outputs": [
    {
     "data": {
      "image/png": "[encoded data removed]",
      "text/plain": [
       "<Figure size 640x480 with 1 Axes>"
      ]
     },
     "metadata": {},
     "output_type": "display_data"
    }
   ],
   "source": [
    "dists = []\n",
    "energies = []\n",
    "for i in np.arange(0.4, 10, .01):\n",
    "    dists.append(i)\n",
    "    energies.append(HF(i))\n",
    "plt.plot(dists, energies)\n",
    "plt.show()"
   ]
  },
  {
   "cell_type": "code",
   "execution_count": null,
   "id": "057e3a25-e2da-41a2-8ab9-ddf735bcd1e3",
   "metadata": {},
   "outputs": [],
   "source": []
  }
 ],
 "metadata": {
  "kernelspec": {
   "display_name": "chem",
   "language": "python",
   "name": "chem"
  },
  "language_info": {
   "codemirror_mode": {
    "name": "ipython",
    "version": 3
   },
   "file_extension": ".py",
   "mimetype": "text/x-python",
   "name": "python",
   "nbconvert_exporter": "python",
   "pygments_lexer": "ipython3",
   "version": "3.11.6"
  }
 },
 "nbformat": 4,
 "nbformat_minor": 5
}
